{
 "cells": [
  {
   "cell_type": "markdown",
   "metadata": {},
   "source": [
    "#  Problem 4 "
   ]
  },
  {
   "cell_type": "code",
   "execution_count": 1,
   "metadata": {},
   "outputs": [],
   "source": [
    "import numpy as np\n",
    "import math\n",
    "import sys"
   ]
  },
  {
   "cell_type": "code",
   "execution_count": 166,
   "metadata": {},
   "outputs": [],
   "source": [
    "A = np.random.randint(-10, high = 10, size = 6)"
   ]
  },
  {
   "cell_type": "code",
   "execution_count": 167,
   "metadata": {},
   "outputs": [
    {
     "data": {
      "text/plain": [
       "array([-2,  5,  3,  8,  2,  0])"
      ]
     },
     "execution_count": 167,
     "metadata": {},
     "output_type": "execute_result"
    }
   ],
   "source": [
    "A"
   ]
  },
  {
   "cell_type": "code",
   "execution_count": 168,
   "metadata": {},
   "outputs": [],
   "source": [
    "sentinel = -sys.maxsize - 1  \n",
    "counter = 0\n",
    "for i in range(0,len(A)):\n",
    "    counter = counter + A[i]\n",
    "    for j in range(0,len(A)):\n",
    "        if counter > sentinel:\n",
    "            sentinel = counter\n",
    "        if counter < 0:\n",
    "            counter = 0"
   ]
  },
  {
   "cell_type": "code",
   "execution_count": 169,
   "metadata": {},
   "outputs": [
    {
     "name": "stdout",
     "output_type": "stream",
     "text": [
      "Sum of the elements of the maximum sub array: 18\n"
     ]
    }
   ],
   "source": [
    "print('Sum of the elements of the maximum sub array: ' + str(sentinel))"
   ]
  },
  {
   "cell_type": "markdown",
   "metadata": {},
   "source": [
    "# Problem 5"
   ]
  },
  {
   "cell_type": "code",
   "execution_count": 16,
   "metadata": {},
   "outputs": [],
   "source": [
    "AA = np.random.randint(-100, high = 100, size = 15)"
   ]
  },
  {
   "cell_type": "code",
   "execution_count": 17,
   "metadata": {},
   "outputs": [],
   "source": [
    "AA0 = np.random.randint(-100, high = 100, size = 1)"
   ]
  },
  {
   "cell_type": "code",
   "execution_count": 18,
   "metadata": {},
   "outputs": [],
   "source": [
    "AA1 = np.append(AA, AA0)"
   ]
  },
  {
   "cell_type": "code",
   "execution_count": 19,
   "metadata": {},
   "outputs": [],
   "source": [
    "aux = []\n",
    "def linear_time_max_subarray(array):\n",
    "    sentinel1 = -sys.maxsize - 1\n",
    "    counter1 = 0\n",
    "    for i in range(0,len(array)):\n",
    "        counter1 = counter1 + array[i]\n",
    "        if counter1 > sentinel1:\n",
    "            sentinel1 = counter1\n",
    "        if counter1 < 0:\n",
    "            counter1 = 0\n",
    "    return aux.append(sentinel1)"
   ]
  },
  {
   "cell_type": "code",
   "execution_count": 20,
   "metadata": {},
   "outputs": [],
   "source": [
    "linear_time_max_subarray(AA)\n",
    "linear_time_max_subarray(AA1)"
   ]
  },
  {
   "cell_type": "code",
   "execution_count": 21,
   "metadata": {},
   "outputs": [
    {
     "data": {
      "text/plain": [
       "[137, 137]"
      ]
     },
     "execution_count": 21,
     "metadata": {},
     "output_type": "execute_result"
    }
   ],
   "source": [
    "aux"
   ]
  },
  {
   "cell_type": "code",
   "execution_count": 22,
   "metadata": {},
   "outputs": [
    {
     "name": "stdout",
     "output_type": "stream",
     "text": [
      "Sum of the elements of the maximum subarray of A[1,...,j]: 137\n"
     ]
    }
   ],
   "source": [
    "print(\"Sum of the elements of the maximum subarray of A[1,...,j]: \" + str(aux[0]))"
   ]
  },
  {
   "cell_type": "code",
   "execution_count": 23,
   "metadata": {},
   "outputs": [
    {
     "name": "stdout",
     "output_type": "stream",
     "text": [
      "Sum of the elements of the maximum subarray of A[1,...,j+1]: 137\n"
     ]
    }
   ],
   "source": [
    "print(\"Sum of the elements of the maximum subarray of A[1,...,j+1]: \" + str(aux[1]))"
   ]
  },
  {
   "cell_type": "code",
   "execution_count": 24,
   "metadata": {},
   "outputs": [
    {
     "data": {
      "text/plain": [
       "array([ 33,  38, -82, -70, -97, -61,  56,  -7, -63,  59,  78, -46, -12,\n",
       "       -40, -56])"
      ]
     },
     "execution_count": 24,
     "metadata": {},
     "output_type": "execute_result"
    }
   ],
   "source": [
    "AA"
   ]
  },
  {
   "cell_type": "code",
   "execution_count": 25,
   "metadata": {},
   "outputs": [
    {
     "data": {
      "text/plain": [
       "array([ 33,  38, -82, -70, -97, -61,  56,  -7, -63,  59,  78, -46, -12,\n",
       "       -40, -56, -67])"
      ]
     },
     "execution_count": 25,
     "metadata": {},
     "output_type": "execute_result"
    }
   ],
   "source": [
    "AA1"
   ]
  },
  {
   "cell_type": "code",
   "execution_count": 26,
   "metadata": {},
   "outputs": [
    {
     "data": {
      "text/plain": [
       "-18.0"
      ]
     },
     "execution_count": 26,
     "metadata": {},
     "output_type": "execute_result"
    }
   ],
   "source": [
    "np.mean(AA)"
   ]
  },
  {
   "cell_type": "code",
   "execution_count": 27,
   "metadata": {},
   "outputs": [
    {
     "data": {
      "text/plain": [
       "-21.0625"
      ]
     },
     "execution_count": 27,
     "metadata": {},
     "output_type": "execute_result"
    }
   ],
   "source": [
    "np.mean(AA1)"
   ]
  },
  {
   "cell_type": "code",
   "execution_count": 28,
   "metadata": {},
   "outputs": [
    {
     "name": "stdout",
     "output_type": "stream",
     "text": [
      "The maximum subarray of A[1,...,j+1] is the same as the maximum subarray A[1,...,j].\n",
      "Mean of the elements of A[1,...,j]: -18.0\n",
      "Mean of the elements of A[1,...,j+1]: -21.0625\n",
      "Mean of the elements of A[1,...,j] > Mean of the elements of A[1,...,j+1]\n"
     ]
    }
   ],
   "source": [
    "if np.mean(AA) > np.mean(AA1):\n",
    "    print(\"The maximum subarray of A[1,...,j+1] is the same as the maximum subarray A[1,...,j].\") \n",
    "    print(\"Mean of the elements of A[1,...,j]: \" + str(np.mean(AA)))\n",
    "    print(\"Mean of the elements of A[1,...,j+1]: \" + str(np.mean(AA1)))\n",
    "    print(\"Mean of the elements of A[1,...,j] > Mean of the elements of A[1,...,j+1]\")\n",
    "if np.mean(AA) < np.mean(AA1):\n",
    "    print(\"The maximum subarray of A[1,...,j+1] is not the same as the maximum subarray A[1,...,j], but it must contain the element A[j+1] of A[1,...,j+1].\") \n",
    "    print(\"Mean of the elements of A[1,...,j]: \" + str(np.mean(AA)))\n",
    "    print(\"Mean of the elements of A[1,...,j+1]: \" + str(np.mean(AA1)))\n",
    "    print(\"Mean of the elements of A[1,...,j] < Mean of the elements of A[1,...,j+1]\")"
   ]
  },
  {
   "cell_type": "code",
   "execution_count": 29,
   "metadata": {},
   "outputs": [
    {
     "name": "stdout",
     "output_type": "stream",
     "text": [
      "The maximum subarray of A[1,...,j+1] is the same as the maximum subarray A[1,...,j].\n",
      "Sum of the elements of the maximun subarray of A[1,...,j]: 137\n",
      "Sum of the elements of the maximun subarray of A[1,...,j+1]: 137\n",
      "Sum of the elements of the maximun subarray of A[1,...,j] = Sum of the elements of the maximun subarray of A[1,...,j+1]\n"
     ]
    }
   ],
   "source": [
    "if aux[0] == aux[1]:\n",
    "    print(\"The maximum subarray of A[1,...,j+1] is the same as the maximum subarray A[1,...,j].\") \n",
    "    print(\"Sum of the elements of the maximun subarray of A[1,...,j]: \" + str(aux[0]))\n",
    "    print(\"Sum of the elements of the maximun subarray of A[1,...,j+1]: \" + str(aux[1]))\n",
    "    print(\"Sum of the elements of the maximun subarray of A[1,...,j] = Sum of the elements of the maximun subarray of A[1,...,j+1]\")\n",
    "if aux[0] < aux[1]:\n",
    "    print(\"The maximum subarray of A[1,...,j+1] is the same as the maximum subarray A[1,...,j].\") \n",
    "    print(\"Sum of the elements of the maximun subarray of A[1,...,j]: \" + str(aux[0]))\n",
    "    print(\"Sum of the elements of the maximun subarray of A[1,...,j+1]: \" + str(aux[1]))\n",
    "    print(\"Sum of the elements of the maximun subarray of A[1,...,j] < Sum of the elements of the maximun subarray of A[1,...,j+1]\")"
   ]
  },
  {
   "cell_type": "code",
   "execution_count": null,
   "metadata": {},
   "outputs": [],
   "source": []
  },
  {
   "cell_type": "code",
   "execution_count": null,
   "metadata": {},
   "outputs": [],
   "source": []
  },
  {
   "cell_type": "code",
   "execution_count": null,
   "metadata": {},
   "outputs": [],
   "source": []
  },
  {
   "cell_type": "code",
   "execution_count": null,
   "metadata": {},
   "outputs": [],
   "source": []
  },
  {
   "cell_type": "code",
   "execution_count": null,
   "metadata": {},
   "outputs": [],
   "source": []
  },
  {
   "cell_type": "code",
   "execution_count": null,
   "metadata": {},
   "outputs": [],
   "source": []
  },
  {
   "cell_type": "code",
   "execution_count": null,
   "metadata": {},
   "outputs": [],
   "source": []
  },
  {
   "cell_type": "code",
   "execution_count": null,
   "metadata": {},
   "outputs": [],
   "source": []
  },
  {
   "cell_type": "code",
   "execution_count": null,
   "metadata": {},
   "outputs": [],
   "source": []
  },
  {
   "cell_type": "code",
   "execution_count": null,
   "metadata": {},
   "outputs": [],
   "source": []
  },
  {
   "cell_type": "code",
   "execution_count": null,
   "metadata": {},
   "outputs": [],
   "source": []
  },
  {
   "cell_type": "code",
   "execution_count": null,
   "metadata": {},
   "outputs": [],
   "source": []
  },
  {
   "cell_type": "code",
   "execution_count": null,
   "metadata": {},
   "outputs": [],
   "source": []
  },
  {
   "cell_type": "code",
   "execution_count": null,
   "metadata": {},
   "outputs": [],
   "source": []
  },
  {
   "cell_type": "code",
   "execution_count": null,
   "metadata": {},
   "outputs": [],
   "source": []
  }
 ],
 "metadata": {
  "kernelspec": {
   "display_name": "Python 3",
   "language": "python",
   "name": "python3"
  },
  "language_info": {
   "codemirror_mode": {
    "name": "ipython",
    "version": 3
   },
   "file_extension": ".py",
   "mimetype": "text/x-python",
   "name": "python",
   "nbconvert_exporter": "python",
   "pygments_lexer": "ipython3",
   "version": "3.8.3"
  }
 },
 "nbformat": 4,
 "nbformat_minor": 4
}
