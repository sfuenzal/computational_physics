{
 "cells": [
  {
   "cell_type": "code",
   "execution_count": 1,
   "metadata": {},
   "outputs": [],
   "source": [
    "from sympy import *\n",
    "import numpy as np "
   ]
  },
  {
   "cell_type": "code",
   "execution_count": 2,
   "metadata": {},
   "outputs": [],
   "source": [
    "x = symbols('x')\n",
    "init_printing(use_unicode = True)"
   ]
  },
  {
   "cell_type": "code",
   "execution_count": 3,
   "metadata": {},
   "outputs": [],
   "source": [
    "functions = [sin(x), cos(x), tan(x), sec(x), csc(x)]"
   ]
  },
  {
   "cell_type": "code",
   "execution_count": 4,
   "metadata": {},
   "outputs": [],
   "source": [
    "names_of_functions = ['sin(x)', 'cos(x)', 'tan(x)', 'sec(x)', 'csc(x)']"
   ]
  },
  {
   "cell_type": "code",
   "execution_count": 5,
   "metadata": {},
   "outputs": [
    {
     "name": "stdout",
     "output_type": "stream",
     "text": [
      "sin(x) = x - x**3/6 + O(x**4)\n",
      "cos(x) = 1 - x**2/2 + O(x**4)\n",
      "tan(x) = x + x**3/3 + O(x**4)\n",
      "sec(x) = 1 + x**2/2 + O(x**4)\n",
      "csc(x) = 1/x + x/6 + 7*x**3/360 + O(x**4)\n"
     ]
    }
   ],
   "source": [
    "for i in range(len(functions)):\n",
    "    print(names_of_functions[i], '=' , functions[i].series(x, 0, 4))"
   ]
  }
 ],
 "metadata": {
  "kernelspec": {
   "display_name": "Python 3",
   "language": "python",
   "name": "python3"
  },
  "language_info": {
   "codemirror_mode": {
    "name": "ipython",
    "version": 3
   },
   "file_extension": ".py",
   "mimetype": "text/x-python",
   "name": "python",
   "nbconvert_exporter": "python",
   "pygments_lexer": "ipython3",
   "version": "3.8.3"
  }
 },
 "nbformat": 4,
 "nbformat_minor": 4
}
